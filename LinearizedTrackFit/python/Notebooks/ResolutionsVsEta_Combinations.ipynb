{
 "cells": [
  {
   "cell_type": "markdown",
   "metadata": {},
   "source": [
    "#Resolutions Vs Eta for a Combination"
   ]
  },
  {
   "cell_type": "code",
   "execution_count": 146,
   "metadata": {
    "collapsed": false
   },
   "outputs": [
    {
     "name": "stdout",
     "output_type": "stream",
     "text": [
      "The autoreload extension is already loaded. To reload it, use:\n",
      "  %reload_ext autoreload\n"
     ]
    }
   ],
   "source": [
    "# This will force external files to be reloaded\n",
    "%load_ext autoreload\n",
    "%autoreload 2\n",
    "import utils.rootprint\n",
    "import utils.rootnotes\n",
    "from array import array\n",
    "\n",
    "from utils.plotting import *\n",
    "\n",
    "from ROOT import TFile, TH1F, TCanvas, TLegend, TGraphErrors, gStyle\n",
    "import math\n",
    "from itertools import chain\n",
    "gStyle.SetOptStat(000000)"
   ]
  },
  {
   "cell_type": "code",
   "execution_count": 380,
   "metadata": {
    "collapsed": false
   },
   "outputs": [],
   "source": [
    "# input_file_name = \"/Users/demattia/RemoteProjects/Test/linearFitterHistograms.root\"\n",
    "constants_dir = \"/Users/demattia/RemoteProjects/LinearizedTrackFit/LinearizedTrackFit/python/ConstantsProduction/\"\n",
    "# Pre-estimates\n",
    "# fit_type = \"PreEstimate_Transverse/\"\n",
    "# fit_type = \"PreEstimate_Transverse_PhiR/\"\n",
    "# fit_type = \"PreEstimate_Transverse_PhiZ/\"\n",
    "# fit_type = \"PreEstimate_Transverse_Pz/\"\n",
    "# fit_type = \"PreEstimate_Longitudinal/\"\n",
    "# fit_type = \"PreEstimate_Longitudinal_Rz/\"\n",
    "# fit_type = \"PreEstimate_Longitudinal_Rz_tgTheta/\"\n",
    "\n",
    "# fit_type = \"Combinations_NineRegions/PreEstimate_Transverse/\"\n",
    "# fit_type = \"Combinations_NineRegions/PreEstimate_Longitudinal_Rz/\"\n",
    "# fit_type = \"Combinations_NineRegions/PreEstimate_Longitudinal_Rz_tgTheta/\"\n",
    "\n",
    "# Low pT\n",
    "# fit_type = \"Combinations_Transverse_2_10/\"\n",
    "# fit_type = \"Combinations_Transverse_Pz_2_10/\"\n",
    "# fit_type = \"Combinations_Transverse_SecondOrder_2_10/\"\n",
    "# fit_type = \"Combinations_Transverse_SecondOrder_GEN_2_10/\"\n",
    "# fit_type = \"Combinations_Transverse_Exact_GEN_2_10/\"\n",
    "# fit_type = \"Combinations_Transverse_Exact_GEN_ExactR_2_10\"\n",
    "# fit_type = \"Combinations_Transverse_SecondOrder_GEN_DeltaZ_2_10\"\n",
    "# fit_type = \"Combinations_Transverse_SecondOrder_GEN_ExactR_2_10\"\n",
    "# fit_type = \"Combinations_Transverse_2_10_Z0Cut\"\n",
    "# fit_type = \"Combinations_Transverse_SecondOrder_2_10_Z0Cut_1\"\n",
    "# fit_type = \"Combinations_Transverse_SecondOrder_2_10_Z0Cut_5\"\n",
    "# fit_type = \"Combinations_Transverse_SecondOrder_phiRz_2_10\"\n",
    "# fit_type = \"Combinations_Transverse_SecondOrder_ExtrapolatedR_2_10\"\n",
    "# fit_type = \"Combinations_Transverse_SecondOrder_ExtrapolatedRSecondOrder_2_10\"\n",
    "# fit_type = \"Combinations_Transverse_SecondOrder_ExtrapolatedRSecondOrderNonRadialStripCorrection_2_10\"\n",
    "# fit_type = \"Combinations_Transverse_SecondOrder_ExtrapolatedRSecondOrderNonRadialStripCorrectionLookup_2_10\"\n",
    "\n",
    "# fit_type = \"Combinations_NineRegions/Combinations_Transverse_SecondOrder_ExtrapolatedRSecondOrderNonRadialStripCorrectionLookup_2_10\"\n",
    "\n",
    "# High pT\n",
    "# fit_type = \"Combinations_Transverse_10_more/\"\n",
    "# fit_type = \"Combinations_Transverse_SecondOrder_10_more/\"\n",
    "# fit_type = \"Combinations_Transverse_SecondOrder_GEN_10_more/\"\n",
    "# fit_type = \"Combinations_Transverse_Exact_GEN_10_more/\"\n",
    "# fit_type = \"Combinations_Transverse_Exact_GEN_ExactR_10_more\"\n",
    "# fit_type = \"Combinations_Transverse_SecondOrder_GEN_DeltaZ_10_more\"\n",
    "# fit_type = \"Combinations_Transverse_SecondOrder_GEN_ExactR_10_more\"\n",
    "# fit_type = \"Combinations_Transverse_SecondOrder_ExtrapolatedR_10_more\"\n",
    "# fit_type = \"Combinations_Transverse_SecondOrder_phiRz_10_more\"\n",
    "# fit_type = \"Combinations_Transverse_SecondOrder_ExtrapolatedRSecondOrder_10_more\"\n",
    "# fit_type = \"Combinations_Transverse_SecondOrder_ExtrapolatedRSecondOrderNonRadialStripCorrection_10_more\"\n",
    "# fit_type = \"Combinations_Transverse_SecondOrder_ExtrapolatedRSecondOrderNonRadialStripCorrectionLookup_10_more\"\n",
    "# fit_type = \"Combinations_Transverse_SecondOrder_ExtrapolatedRSecondOrderNonRadialStripCorrectionLookup_10_more/TestPrompt\"\n",
    "# fit_type = \"Combinations_Transverse_SecondOrder_ExtrapolatedRSecondOrderNonRadialStripCorrectionLookup_genTheta_10_more\"\n",
    "# fit_type = \"Combinations_Transverse_SecondOrder_ExtrapolatedRSecondOrderNonRadialStripCorrectionLookup_GEN_10_more\"\n",
    "# fit_type = \"Combinations_Transverse_SecondOrder_ExtrapolatedRSecondOrderNonRadialStripCorrectionLookup_GEN_ExactExtrapolation_10_more\"\n",
    "\n",
    "# fit_type = \"Combinations_Transverse_SecondOrder_ExtrapolatedRSecondOrderNonRadialStripCorrectionLookup_10_more/Test\"\n",
    "\n",
    "# fit_type = \"Combinations_NineRegions/Combinations_Transverse_SecondOrder_ExtrapolatedRSecondOrderNonRadialStripCorrectionLookup_10_more\"\n",
    "\n",
    "\n",
    "# 14 regions\n",
    "# regions_number = 14\n",
    "# Flat pT\n",
    "# fit_type = \"FourteenRegions/FlatPt/Combinations_Transverse_SecondOrder_ExtrapolatedRSecondOrderNonRadialStripCorrectionLookup_10_more\"\n",
    "# Flat 1/pT\n",
    "# fit_type = \"FourteenRegions/FlatOneOverPt/Combinations_Transverse_SecondOrder_ExtrapolatedRSecondOrderNonRadialStripCorrectionLookup_10_more\"\n",
    "# fit_type = \"FourteenRegions/FlatOneOverPt/Combinations_Transverse_SecondOrder_ExtrapolatedRSecondOrderNonRadialStripCorrectionLookup_10_more_alsoPreEstimates\"\n",
    "\n",
    "# 9 regions\n",
    "regions_number = 9\n",
    "# Flat pT\n",
    "# fit_type = \"NineRegions/FlatPt/Combinations_Transverse_SecondOrder_ExtrapolatedRSecondOrderNonRadialStripCorrectionLookup_10_more\"\n",
    "# Flat 1/pT\n",
    "# fit_type = \"NineRegions/FlatOneOverPt/Combinations_Transverse_SecondOrder_ExtrapolatedRSecondOrderNonRadialStripCorrectionLookup_10_more\"\n",
    "# fit_type = \"NineRegions/FlatOneOverPt/Combinations_Transverse_SecondOrder_ExtrapolatedRSecondOrderNonRadialStripCorrectionLookup_10_more_alsoPreEstimates\"\n",
    "\n",
    "\n",
    "\n",
    "\n",
    "# fit_type = \"Combinations_Transverse_SecondOrder_20_more\"\n",
    "# fit_type = \"Combinations_Transverse_SecondOrder_ExtrapolatedR_20_more\"\n",
    "\n",
    "# fit_type = \"Combinations_Transverse_SecondOrder_10_12\"\n",
    "# fit_type = \"Combinations_Transverse_SecondOrder_ExtrapolatedR_10_12\"\n",
    "\n",
    "# fit_type = \"Combinations_Transverse_SecondOrder_phiRz_15_20\"\n",
    "# fit_type = \"Combinations_Transverse_SecondOrder_phiRz_20_more\"\n",
    "\n",
    "# R-z\n",
    "# fit_type = \"Combinations_Longitudinal_Rz_SecondOrder/\"\n",
    "\n",
    "# input_file_name = constants_dir+\"Combinations_Transverse_SecondOrder_2_10/linearFitterHistograms.root\"\n",
    "# input_file_name = constants_dir+\"Combinations_Transverse_SecondOrder_10_more/linearFitterHistograms.root\"\n",
    "\n",
    "\n",
    "# constants_dir = \"/Users/demattia/RemoteProjects/Test/\"\n",
    "# fit_type = \"\""
   ]
  },
  {
   "cell_type": "code",
   "execution_count": 381,
   "metadata": {
    "collapsed": false
   },
   "outputs": [
    {
     "name": "stderr",
     "output_type": "stream",
     "text": [
      "TCanvas::Constructor:0: RuntimeWarning: Deleting canvas with same name: c\n"
     ]
    },
    {
     "data": {
      "image/png": "[encoded data removed]",
      "text/plain": [
       "<ROOT.TCanvas object (\"c\") at 0x7fbf489bac30>"
      ]
     },
     "execution_count": 381,
     "metadata": {},
     "output_type": "execute_result"
    }
   ],
   "source": [
    "input_file_name_Rz = constants_dir+fit_type+\"/matrixBuilderHistograms.root\"\n",
    "\n",
    "file_name_list, legend_entry_list = generate_files_and_legend_entry_all_regions_6_6(constants_dir, fit_type, regions_number)\n",
    "\n",
    "# Extract the list of combinations indexes corresponding to the file_name_list.\n",
    "# This is used for the Rz plot.\n",
    "combination_index_list = []\n",
    "for file_name in file_name_list:\n",
    "    combination_index_list.append(file_name.split(\"_\")[-1].split(\".root\")[0])\n",
    "\n",
    "\n",
    "region = 6\n",
    "\n",
    "\n",
    "input_file_name = file_name_list[region - 1].replace(\"linearFitterHistograms\", \"StubDistanceFromGenTrack\")\n",
    "comb_index = combination_index_list[region - 1]\n",
    "c = draw_Rz(input_file_name_Rz, comb_index)\n",
    "c[0]"
   ]
  },
  {
   "cell_type": "markdown",
   "metadata": {
    "collapsed": false
   },
   "source": [
    "## $\\chi^2/ndof$"
   ]
  },
  {
   "cell_type": "code",
   "execution_count": 382,
   "metadata": {
    "collapsed": false
   },
   "outputs": [
    {
     "name": "stderr",
     "output_type": "stream",
     "text": [
      "TCanvas::Constructor:0: RuntimeWarning: Deleting canvas with same name: c_chi2Ndof\n",
      "TCanvas::Constructor:0: RuntimeWarning: Deleting canvas with same name: c_chi2Ndof\n",
      "TCanvas::Constructor:0: RuntimeWarning: Deleting canvas with same name: c_chi2Ndof\n",
      "TCanvas::Constructor:0: RuntimeWarning: Deleting canvas with same name: c_chi2Ndof\n",
      "TCanvas::Constructor:0: RuntimeWarning: Deleting canvas with same name: c_chi2Ndof\n",
      "TCanvas::Constructor:0: RuntimeWarning: Deleting canvas with same name: c_chi2Ndof\n",
      "TCanvas::Constructor:0: RuntimeWarning: Deleting canvas with same name: c_chi2Ndof\n",
      "TCanvas::Constructor:0: RuntimeWarning: Deleting canvas with same name: c_chi2Ndof\n",
      "TCanvas::Constructor:0: RuntimeWarning: Deleting canvas with same name: chi2\n"
     ]
    },
    {
     "data": {
      "image/png": "[encoded data removed]",
      "text/plain": [
       "<ROOT.TCanvas object (\"chi2\") at 0x7fbf489ccfb0>"
      ]
     },
     "execution_count": 382,
     "metadata": {},
     "output_type": "execute_result"
    }
   ],
   "source": [
    "file_name_list, legend_entry_list = generate_files_and_legend_entry_all_regions_6_6(constants_dir, fit_type, regions_number)\n",
    "c = draw_all_chi2ndof(file_name_list, legend_entry_list)\n",
    "c[0]"
   ]
  },
  {
   "cell_type": "code",
   "execution_count": 383,
   "metadata": {
    "collapsed": false
   },
   "outputs": [
    {
     "ename": "AttributeError",
     "evalue": "'TObject' object has no attribute 'SetTitle'",
     "output_type": "error",
     "traceback": [
      "\u001b[0;31m---------------------------------------------------------------------------\u001b[0m",
      "\u001b[0;31mAttributeError\u001b[0m                            Traceback (most recent call last)",
      "\u001b[0;32m<ipython-input-383-b4128bd79a86>\u001b[0m in \u001b[0;36m<module>\u001b[0;34m()\u001b[0m\n\u001b[1;32m      1\u001b[0m c = draw_slices_overlay(file_name_list, legend_entry_list,\n\u001b[0;32m----> 2\u001b[0;31m                         \"deltaZ0VsEta\", \"#sigma(z_{0}) [cm]\", 0.7, 500)\n\u001b[0m\u001b[1;32m      3\u001b[0m \u001b[0mc\u001b[0m\u001b[0;34m[\u001b[0m\u001b[0;36m0\u001b[0m\u001b[0;34m]\u001b[0m\u001b[0;34m\u001b[0m\u001b[0m\n",
      "\u001b[0;32m/Users/demattia/RemoteProjects/LinearizedTrackFit/LinearizedTrackFit/python/Notebooks/utils/plotting.py\u001b[0m in \u001b[0;36mdraw_slices_overlay\u001b[0;34m(file_name_list, legend_entry_list, h_name, y_title, y_max, total_bins, bins_factor)\u001b[0m\n\u001b[1;32m    312\u001b[0m         histos.append(fit_slices(file_name, h_name, eta_bin_edge, eta_min, eta_max, total_bins_eta,\n\u001b[1;32m    313\u001b[0m                                  \u001b[0;36m10\u001b[0m\u001b[0;34m*\u001b[0m\u001b[0mmin_x\u001b[0m\u001b[0;34m,\u001b[0m \u001b[0;36m10\u001b[0m\u001b[0;34m*\u001b[0m\u001b[0mmax_x\u001b[0m\u001b[0;34m,\u001b[0m \u001b[0;36m0.\u001b[0m\u001b[0;34m,\u001b[0m \u001b[0my_max\u001b[0m\u001b[0;34m,\u001b[0m\u001b[0;34m\u001b[0m\u001b[0m\n\u001b[0;32m--> 314\u001b[0;31m                                  \"#eta\", \"#Deltaz_{0} [cm]\", y_title)[4])\n\u001b[0m\u001b[1;32m    315\u001b[0m \u001b[0;34m\u001b[0m\u001b[0m\n\u001b[1;32m    316\u001b[0m     \u001b[0mc\u001b[0m \u001b[0;34m=\u001b[0m \u001b[0mTCanvas\u001b[0m\u001b[0;34m(\u001b[0m\u001b[0;34m\"c\"\u001b[0m\u001b[0;34m,\u001b[0m \u001b[0;34m\"c\"\u001b[0m\u001b[0;34m,\u001b[0m \u001b[0;36m800\u001b[0m\u001b[0;34m,\u001b[0m \u001b[0;36m600\u001b[0m\u001b[0;34m)\u001b[0m\u001b[0;34m\u001b[0m\u001b[0m\n",
      "\u001b[0;32m/Users/demattia/RemoteProjects/LinearizedTrackFit/LinearizedTrackFit/python/Notebooks/utils/plotting.py\u001b[0m in \u001b[0;36mfit_slices\u001b[0;34m(input_file_name, h_name, bin_values, value_min, value_max, total_bins, mean_y_min, mean_y_max, sigma_y_min, sigma_y_max, x_title, y_title, sigma_y_title)\u001b[0m\n\u001b[1;32m     20\u001b[0m     \u001b[0minput_file\u001b[0m \u001b[0;34m=\u001b[0m \u001b[0mTFile\u001b[0m\u001b[0;34m(\u001b[0m\u001b[0minput_file_name\u001b[0m\u001b[0;34m,\u001b[0m \u001b[0;34m\"READ\"\u001b[0m\u001b[0;34m)\u001b[0m\u001b[0;34m\u001b[0m\u001b[0m\n\u001b[1;32m     21\u001b[0m     \u001b[0mh\u001b[0m \u001b[0;34m=\u001b[0m \u001b[0minput_file\u001b[0m\u001b[0;34m.\u001b[0m\u001b[0mFindObjectAny\u001b[0m\u001b[0;34m(\u001b[0m\u001b[0mh_name\u001b[0m\u001b[0;34m)\u001b[0m\u001b[0;34m\u001b[0m\u001b[0m\n\u001b[0;32m---> 22\u001b[0;31m     \u001b[0mh\u001b[0m\u001b[0;34m.\u001b[0m\u001b[0mSetTitle\u001b[0m\u001b[0;34m(\u001b[0m\u001b[0;34m\"\"\u001b[0m\u001b[0;34m)\u001b[0m\u001b[0;34m\u001b[0m\u001b[0m\n\u001b[0m\u001b[1;32m     23\u001b[0m     \u001b[0mc1\u001b[0m \u001b[0;34m=\u001b[0m \u001b[0mTCanvas\u001b[0m\u001b[0;34m(\u001b[0m\u001b[0;34m\"c1\"\u001b[0m\u001b[0;34m,\u001b[0m \u001b[0;34m\"c1\"\u001b[0m\u001b[0;34m,\u001b[0m \u001b[0;36m600\u001b[0m\u001b[0;34m,\u001b[0m \u001b[0;36m600\u001b[0m\u001b[0;34m)\u001b[0m\u001b[0;34m\u001b[0m\u001b[0m\n\u001b[1;32m     24\u001b[0m     \u001b[0mc1\u001b[0m\u001b[0;34m.\u001b[0m\u001b[0mSetRightMargin\u001b[0m\u001b[0;34m(\u001b[0m\u001b[0;36m0.15\u001b[0m\u001b[0;34m)\u001b[0m\u001b[0;34m\u001b[0m\u001b[0m\n",
      "\u001b[0;31mAttributeError\u001b[0m: 'TObject' object has no attribute 'SetTitle'"
     ]
    }
   ],
   "source": [
    "c = draw_slices_overlay(file_name_list, legend_entry_list,\n",
    "                        \"deltaZ0VsEta\", \"#sigma(z_{0}) [cm]\", 0.7, 500)\n",
    "c[0]"
   ]
  },
  {
   "cell_type": "code",
   "execution_count": 384,
   "metadata": {
    "collapsed": false
   },
   "outputs": [
    {
     "ename": "AttributeError",
     "evalue": "'TObject' object has no attribute 'SetTitle'",
     "output_type": "error",
     "traceback": [
      "\u001b[0;31m---------------------------------------------------------------------------\u001b[0m",
      "\u001b[0;31mAttributeError\u001b[0m                            Traceback (most recent call last)",
      "\u001b[0;32m<ipython-input-384-bec8620d59c6>\u001b[0m in \u001b[0;36m<module>\u001b[0;34m()\u001b[0m\n\u001b[0;32m----> 1\u001b[0;31m \u001b[0mc\u001b[0m \u001b[0;34m=\u001b[0m \u001b[0mdraw_slices_overlay\u001b[0m\u001b[0;34m(\u001b[0m\u001b[0mfile_name_list\u001b[0m\u001b[0;34m,\u001b[0m \u001b[0mlegend_entry_list\u001b[0m\u001b[0;34m,\u001b[0m \u001b[0;34m\"deltaCotThetaVsEta\"\u001b[0m\u001b[0;34m,\u001b[0m \u001b[0;34m\"#sigma(cot#theta)\"\u001b[0m\u001b[0;34m,\u001b[0m \u001b[0;36m0.05\u001b[0m\u001b[0;34m,\u001b[0m \u001b[0;36m500\u001b[0m\u001b[0;34m)\u001b[0m\u001b[0;34m\u001b[0m\u001b[0m\n\u001b[0m\u001b[1;32m      2\u001b[0m \u001b[0mc\u001b[0m\u001b[0;34m[\u001b[0m\u001b[0;36m0\u001b[0m\u001b[0;34m]\u001b[0m\u001b[0;34m\u001b[0m\u001b[0m\n",
      "\u001b[0;32m/Users/demattia/RemoteProjects/LinearizedTrackFit/LinearizedTrackFit/python/Notebooks/utils/plotting.py\u001b[0m in \u001b[0;36mdraw_slices_overlay\u001b[0;34m(file_name_list, legend_entry_list, h_name, y_title, y_max, total_bins, bins_factor)\u001b[0m\n\u001b[1;32m    312\u001b[0m         histos.append(fit_slices(file_name, h_name, eta_bin_edge, eta_min, eta_max, total_bins_eta,\n\u001b[1;32m    313\u001b[0m                                  \u001b[0;36m10\u001b[0m\u001b[0;34m*\u001b[0m\u001b[0mmin_x\u001b[0m\u001b[0;34m,\u001b[0m \u001b[0;36m10\u001b[0m\u001b[0;34m*\u001b[0m\u001b[0mmax_x\u001b[0m\u001b[0;34m,\u001b[0m \u001b[0;36m0.\u001b[0m\u001b[0;34m,\u001b[0m \u001b[0my_max\u001b[0m\u001b[0;34m,\u001b[0m\u001b[0;34m\u001b[0m\u001b[0m\n\u001b[0;32m--> 314\u001b[0;31m                                  \"#eta\", \"#Deltaz_{0} [cm]\", y_title)[4])\n\u001b[0m\u001b[1;32m    315\u001b[0m \u001b[0;34m\u001b[0m\u001b[0m\n\u001b[1;32m    316\u001b[0m     \u001b[0mc\u001b[0m \u001b[0;34m=\u001b[0m \u001b[0mTCanvas\u001b[0m\u001b[0;34m(\u001b[0m\u001b[0;34m\"c\"\u001b[0m\u001b[0;34m,\u001b[0m \u001b[0;34m\"c\"\u001b[0m\u001b[0;34m,\u001b[0m \u001b[0;36m800\u001b[0m\u001b[0;34m,\u001b[0m \u001b[0;36m600\u001b[0m\u001b[0;34m)\u001b[0m\u001b[0;34m\u001b[0m\u001b[0m\n",
      "\u001b[0;32m/Users/demattia/RemoteProjects/LinearizedTrackFit/LinearizedTrackFit/python/Notebooks/utils/plotting.py\u001b[0m in \u001b[0;36mfit_slices\u001b[0;34m(input_file_name, h_name, bin_values, value_min, value_max, total_bins, mean_y_min, mean_y_max, sigma_y_min, sigma_y_max, x_title, y_title, sigma_y_title)\u001b[0m\n\u001b[1;32m     20\u001b[0m     \u001b[0minput_file\u001b[0m \u001b[0;34m=\u001b[0m \u001b[0mTFile\u001b[0m\u001b[0;34m(\u001b[0m\u001b[0minput_file_name\u001b[0m\u001b[0;34m,\u001b[0m \u001b[0;34m\"READ\"\u001b[0m\u001b[0;34m)\u001b[0m\u001b[0;34m\u001b[0m\u001b[0m\n\u001b[1;32m     21\u001b[0m     \u001b[0mh\u001b[0m \u001b[0;34m=\u001b[0m \u001b[0minput_file\u001b[0m\u001b[0;34m.\u001b[0m\u001b[0mFindObjectAny\u001b[0m\u001b[0;34m(\u001b[0m\u001b[0mh_name\u001b[0m\u001b[0;34m)\u001b[0m\u001b[0;34m\u001b[0m\u001b[0m\n\u001b[0;32m---> 22\u001b[0;31m     \u001b[0mh\u001b[0m\u001b[0;34m.\u001b[0m\u001b[0mSetTitle\u001b[0m\u001b[0;34m(\u001b[0m\u001b[0;34m\"\"\u001b[0m\u001b[0;34m)\u001b[0m\u001b[0;34m\u001b[0m\u001b[0m\n\u001b[0m\u001b[1;32m     23\u001b[0m     \u001b[0mc1\u001b[0m \u001b[0;34m=\u001b[0m \u001b[0mTCanvas\u001b[0m\u001b[0;34m(\u001b[0m\u001b[0;34m\"c1\"\u001b[0m\u001b[0;34m,\u001b[0m \u001b[0;34m\"c1\"\u001b[0m\u001b[0;34m,\u001b[0m \u001b[0;36m600\u001b[0m\u001b[0;34m,\u001b[0m \u001b[0;36m600\u001b[0m\u001b[0;34m)\u001b[0m\u001b[0;34m\u001b[0m\u001b[0m\n\u001b[1;32m     24\u001b[0m     \u001b[0mc1\u001b[0m\u001b[0;34m.\u001b[0m\u001b[0mSetRightMargin\u001b[0m\u001b[0;34m(\u001b[0m\u001b[0;36m0.15\u001b[0m\u001b[0;34m)\u001b[0m\u001b[0;34m\u001b[0m\u001b[0m\n",
      "\u001b[0;31mAttributeError\u001b[0m: 'TObject' object has no attribute 'SetTitle'"
     ]
    }
   ],
   "source": [
    "c = draw_slices_overlay(file_name_list, legend_entry_list, \"deltaCotThetaVsEta\", \"#sigma(cot#theta)\", 0.05, 500)\n",
    "c[0]"
   ]
  },
  {
   "cell_type": "code",
   "execution_count": 385,
   "metadata": {
    "collapsed": false
   },
   "outputs": [
    {
     "ename": "AttributeError",
     "evalue": "'TObject' object has no attribute 'SetTitle'",
     "output_type": "error",
     "traceback": [
      "\u001b[0;31m---------------------------------------------------------------------------\u001b[0m",
      "\u001b[0;31mAttributeError\u001b[0m                            Traceback (most recent call last)",
      "\u001b[0;32m<ipython-input-385-8f520322c137>\u001b[0m in \u001b[0;36m<module>\u001b[0;34m()\u001b[0m\n\u001b[0;32m----> 1\u001b[0;31m \u001b[0mc\u001b[0m \u001b[0;34m=\u001b[0m \u001b[0mdraw_slices_overlay\u001b[0m\u001b[0;34m(\u001b[0m\u001b[0mfile_name_list\u001b[0m\u001b[0;34m,\u001b[0m \u001b[0mlegend_entry_list\u001b[0m\u001b[0;34m,\u001b[0m \u001b[0;34m\"deltaTgThetaVsEta\"\u001b[0m\u001b[0;34m,\u001b[0m \u001b[0;34m\"#sigma(tan#theta)\"\u001b[0m\u001b[0;34m,\u001b[0m \u001b[0;36m0.01\u001b[0m\u001b[0;34m,\u001b[0m \u001b[0;36m500\u001b[0m\u001b[0;34m)\u001b[0m\u001b[0;34m\u001b[0m\u001b[0m\n\u001b[0m\u001b[1;32m      2\u001b[0m \u001b[0mc\u001b[0m\u001b[0;34m[\u001b[0m\u001b[0;36m0\u001b[0m\u001b[0;34m]\u001b[0m\u001b[0;34m\u001b[0m\u001b[0m\n",
      "\u001b[0;32m/Users/demattia/RemoteProjects/LinearizedTrackFit/LinearizedTrackFit/python/Notebooks/utils/plotting.py\u001b[0m in \u001b[0;36mdraw_slices_overlay\u001b[0;34m(file_name_list, legend_entry_list, h_name, y_title, y_max, total_bins, bins_factor)\u001b[0m\n\u001b[1;32m    312\u001b[0m         histos.append(fit_slices(file_name, h_name, eta_bin_edge, eta_min, eta_max, total_bins_eta,\n\u001b[1;32m    313\u001b[0m                                  \u001b[0;36m10\u001b[0m\u001b[0;34m*\u001b[0m\u001b[0mmin_x\u001b[0m\u001b[0;34m,\u001b[0m \u001b[0;36m10\u001b[0m\u001b[0;34m*\u001b[0m\u001b[0mmax_x\u001b[0m\u001b[0;34m,\u001b[0m \u001b[0;36m0.\u001b[0m\u001b[0;34m,\u001b[0m \u001b[0my_max\u001b[0m\u001b[0;34m,\u001b[0m\u001b[0;34m\u001b[0m\u001b[0m\n\u001b[0;32m--> 314\u001b[0;31m                                  \"#eta\", \"#Deltaz_{0} [cm]\", y_title)[4])\n\u001b[0m\u001b[1;32m    315\u001b[0m \u001b[0;34m\u001b[0m\u001b[0m\n\u001b[1;32m    316\u001b[0m     \u001b[0mc\u001b[0m \u001b[0;34m=\u001b[0m \u001b[0mTCanvas\u001b[0m\u001b[0;34m(\u001b[0m\u001b[0;34m\"c\"\u001b[0m\u001b[0;34m,\u001b[0m \u001b[0;34m\"c\"\u001b[0m\u001b[0;34m,\u001b[0m \u001b[0;36m800\u001b[0m\u001b[0;34m,\u001b[0m \u001b[0;36m600\u001b[0m\u001b[0;34m)\u001b[0m\u001b[0;34m\u001b[0m\u001b[0m\n",
      "\u001b[0;32m/Users/demattia/RemoteProjects/LinearizedTrackFit/LinearizedTrackFit/python/Notebooks/utils/plotting.py\u001b[0m in \u001b[0;36mfit_slices\u001b[0;34m(input_file_name, h_name, bin_values, value_min, value_max, total_bins, mean_y_min, mean_y_max, sigma_y_min, sigma_y_max, x_title, y_title, sigma_y_title)\u001b[0m\n\u001b[1;32m     20\u001b[0m     \u001b[0minput_file\u001b[0m \u001b[0;34m=\u001b[0m \u001b[0mTFile\u001b[0m\u001b[0;34m(\u001b[0m\u001b[0minput_file_name\u001b[0m\u001b[0;34m,\u001b[0m \u001b[0;34m\"READ\"\u001b[0m\u001b[0;34m)\u001b[0m\u001b[0;34m\u001b[0m\u001b[0m\n\u001b[1;32m     21\u001b[0m     \u001b[0mh\u001b[0m \u001b[0;34m=\u001b[0m \u001b[0minput_file\u001b[0m\u001b[0;34m.\u001b[0m\u001b[0mFindObjectAny\u001b[0m\u001b[0;34m(\u001b[0m\u001b[0mh_name\u001b[0m\u001b[0;34m)\u001b[0m\u001b[0;34m\u001b[0m\u001b[0m\n\u001b[0;32m---> 22\u001b[0;31m     \u001b[0mh\u001b[0m\u001b[0;34m.\u001b[0m\u001b[0mSetTitle\u001b[0m\u001b[0;34m(\u001b[0m\u001b[0;34m\"\"\u001b[0m\u001b[0;34m)\u001b[0m\u001b[0;34m\u001b[0m\u001b[0m\n\u001b[0m\u001b[1;32m     23\u001b[0m     \u001b[0mc1\u001b[0m \u001b[0;34m=\u001b[0m \u001b[0mTCanvas\u001b[0m\u001b[0;34m(\u001b[0m\u001b[0;34m\"c1\"\u001b[0m\u001b[0;34m,\u001b[0m \u001b[0;34m\"c1\"\u001b[0m\u001b[0;34m,\u001b[0m \u001b[0;36m600\u001b[0m\u001b[0;34m,\u001b[0m \u001b[0;36m600\u001b[0m\u001b[0;34m)\u001b[0m\u001b[0;34m\u001b[0m\u001b[0m\n\u001b[1;32m     24\u001b[0m     \u001b[0mc1\u001b[0m\u001b[0;34m.\u001b[0m\u001b[0mSetRightMargin\u001b[0m\u001b[0;34m(\u001b[0m\u001b[0;36m0.15\u001b[0m\u001b[0;34m)\u001b[0m\u001b[0;34m\u001b[0m\u001b[0m\n",
      "\u001b[0;31mAttributeError\u001b[0m: 'TObject' object has no attribute 'SetTitle'"
     ]
    }
   ],
   "source": [
    "c = draw_slices_overlay(file_name_list, legend_entry_list, \"deltaTgThetaVsEta\", \"#sigma(tan#theta)\", 0.01, 500)\n",
    "c[0]"
   ]
  },
  {
   "cell_type": "code",
   "execution_count": 386,
   "metadata": {
    "collapsed": false
   },
   "outputs": [
    {
     "ename": "AttributeError",
     "evalue": "'TObject' object has no attribute 'SetTitle'",
     "output_type": "error",
     "traceback": [
      "\u001b[0;31m---------------------------------------------------------------------------\u001b[0m",
      "\u001b[0;31mAttributeError\u001b[0m                            Traceback (most recent call last)",
      "\u001b[0;32m<ipython-input-386-e23f9432fb7d>\u001b[0m in \u001b[0;36m<module>\u001b[0;34m()\u001b[0m\n\u001b[0;32m----> 1\u001b[0;31m \u001b[0mc\u001b[0m \u001b[0;34m=\u001b[0m \u001b[0mdraw_slices_overlay\u001b[0m\u001b[0;34m(\u001b[0m\u001b[0mfile_name_list\u001b[0m\u001b[0;34m,\u001b[0m \u001b[0mlegend_entry_list\u001b[0m\u001b[0;34m,\u001b[0m \u001b[0;34m\"deltaEtaVsEta\"\u001b[0m\u001b[0;34m,\u001b[0m \u001b[0;34m\"#sigma(#eta)\"\u001b[0m\u001b[0;34m,\u001b[0m \u001b[0;36m0.08\u001b[0m\u001b[0;34m,\u001b[0m \u001b[0;36m400\u001b[0m\u001b[0;34m)\u001b[0m\u001b[0;34m\u001b[0m\u001b[0m\n\u001b[0m\u001b[1;32m      2\u001b[0m \u001b[0mc\u001b[0m\u001b[0;34m[\u001b[0m\u001b[0;36m0\u001b[0m\u001b[0;34m]\u001b[0m\u001b[0;34m\u001b[0m\u001b[0m\n",
      "\u001b[0;32m/Users/demattia/RemoteProjects/LinearizedTrackFit/LinearizedTrackFit/python/Notebooks/utils/plotting.py\u001b[0m in \u001b[0;36mdraw_slices_overlay\u001b[0;34m(file_name_list, legend_entry_list, h_name, y_title, y_max, total_bins, bins_factor)\u001b[0m\n\u001b[1;32m    312\u001b[0m         histos.append(fit_slices(file_name, h_name, eta_bin_edge, eta_min, eta_max, total_bins_eta,\n\u001b[1;32m    313\u001b[0m                                  \u001b[0;36m10\u001b[0m\u001b[0;34m*\u001b[0m\u001b[0mmin_x\u001b[0m\u001b[0;34m,\u001b[0m \u001b[0;36m10\u001b[0m\u001b[0;34m*\u001b[0m\u001b[0mmax_x\u001b[0m\u001b[0;34m,\u001b[0m \u001b[0;36m0.\u001b[0m\u001b[0;34m,\u001b[0m \u001b[0my_max\u001b[0m\u001b[0;34m,\u001b[0m\u001b[0;34m\u001b[0m\u001b[0m\n\u001b[0;32m--> 314\u001b[0;31m                                  \"#eta\", \"#Deltaz_{0} [cm]\", y_title)[4])\n\u001b[0m\u001b[1;32m    315\u001b[0m \u001b[0;34m\u001b[0m\u001b[0m\n\u001b[1;32m    316\u001b[0m     \u001b[0mc\u001b[0m \u001b[0;34m=\u001b[0m \u001b[0mTCanvas\u001b[0m\u001b[0;34m(\u001b[0m\u001b[0;34m\"c\"\u001b[0m\u001b[0;34m,\u001b[0m \u001b[0;34m\"c\"\u001b[0m\u001b[0;34m,\u001b[0m \u001b[0;36m800\u001b[0m\u001b[0;34m,\u001b[0m \u001b[0;36m600\u001b[0m\u001b[0;34m)\u001b[0m\u001b[0;34m\u001b[0m\u001b[0m\n",
      "\u001b[0;32m/Users/demattia/RemoteProjects/LinearizedTrackFit/LinearizedTrackFit/python/Notebooks/utils/plotting.py\u001b[0m in \u001b[0;36mfit_slices\u001b[0;34m(input_file_name, h_name, bin_values, value_min, value_max, total_bins, mean_y_min, mean_y_max, sigma_y_min, sigma_y_max, x_title, y_title, sigma_y_title)\u001b[0m\n\u001b[1;32m     20\u001b[0m     \u001b[0minput_file\u001b[0m \u001b[0;34m=\u001b[0m \u001b[0mTFile\u001b[0m\u001b[0;34m(\u001b[0m\u001b[0minput_file_name\u001b[0m\u001b[0;34m,\u001b[0m \u001b[0;34m\"READ\"\u001b[0m\u001b[0;34m)\u001b[0m\u001b[0;34m\u001b[0m\u001b[0m\n\u001b[1;32m     21\u001b[0m     \u001b[0mh\u001b[0m \u001b[0;34m=\u001b[0m \u001b[0minput_file\u001b[0m\u001b[0;34m.\u001b[0m\u001b[0mFindObjectAny\u001b[0m\u001b[0;34m(\u001b[0m\u001b[0mh_name\u001b[0m\u001b[0;34m)\u001b[0m\u001b[0;34m\u001b[0m\u001b[0m\n\u001b[0;32m---> 22\u001b[0;31m     \u001b[0mh\u001b[0m\u001b[0;34m.\u001b[0m\u001b[0mSetTitle\u001b[0m\u001b[0;34m(\u001b[0m\u001b[0;34m\"\"\u001b[0m\u001b[0;34m)\u001b[0m\u001b[0;34m\u001b[0m\u001b[0m\n\u001b[0m\u001b[1;32m     23\u001b[0m     \u001b[0mc1\u001b[0m \u001b[0;34m=\u001b[0m \u001b[0mTCanvas\u001b[0m\u001b[0;34m(\u001b[0m\u001b[0;34m\"c1\"\u001b[0m\u001b[0;34m,\u001b[0m \u001b[0;34m\"c1\"\u001b[0m\u001b[0;34m,\u001b[0m \u001b[0;36m600\u001b[0m\u001b[0;34m,\u001b[0m \u001b[0;36m600\u001b[0m\u001b[0;34m)\u001b[0m\u001b[0;34m\u001b[0m\u001b[0m\n\u001b[1;32m     24\u001b[0m     \u001b[0mc1\u001b[0m\u001b[0;34m.\u001b[0m\u001b[0mSetRightMargin\u001b[0m\u001b[0;34m(\u001b[0m\u001b[0;36m0.15\u001b[0m\u001b[0;34m)\u001b[0m\u001b[0;34m\u001b[0m\u001b[0m\n",
      "\u001b[0;31mAttributeError\u001b[0m: 'TObject' object has no attribute 'SetTitle'"
     ]
    }
   ],
   "source": [
    "c = draw_slices_overlay(file_name_list, legend_entry_list, \"deltaEtaVsEta\", \"#sigma(#eta)\", 0.08, 400)\n",
    "c[0]"
   ]
  },
  {
   "cell_type": "code",
   "execution_count": 387,
   "metadata": {
    "collapsed": false
   },
   "outputs": [
    {
     "name": "stderr",
     "output_type": "stream",
     "text": [
      "TCanvas::Constructor:0: RuntimeWarning: Deleting canvas with same name: c2\n"
     ]
    },
    {
     "ename": "AttributeError",
     "evalue": "'TObject' object has no attribute 'SetTitle'",
     "output_type": "error",
     "traceback": [
      "\u001b[0;31m---------------------------------------------------------------------------\u001b[0m",
      "\u001b[0;31mAttributeError\u001b[0m                            Traceback (most recent call last)",
      "\u001b[0;32m<ipython-input-387-8a20050924e6>\u001b[0m in \u001b[0;36m<module>\u001b[0;34m()\u001b[0m\n\u001b[1;32m     18\u001b[0m         \u001b[0mmin_y\u001b[0m \u001b[0;34m=\u001b[0m \u001b[0;36m0.1\u001b[0m\u001b[0;34m\u001b[0m\u001b[0m\n\u001b[1;32m     19\u001b[0m \u001b[0;34m\u001b[0m\u001b[0m\n\u001b[0;32m---> 20\u001b[0;31m \u001b[0mc\u001b[0m \u001b[0;34m=\u001b[0m \u001b[0mdraw_slices_overlay\u001b[0m\u001b[0;34m(\u001b[0m\u001b[0mfile_name_list\u001b[0m\u001b[0;34m,\u001b[0m \u001b[0mlegend_entry_list\u001b[0m\u001b[0;34m,\u001b[0m \u001b[0;34m\"deltaPtOverPtVsEta\"\u001b[0m\u001b[0;34m,\u001b[0m \u001b[0;34m\"#sigma(p_{T})/p_{T}\"\u001b[0m\u001b[0;34m,\u001b[0m \u001b[0mmin_y\u001b[0m\u001b[0;34m,\u001b[0m \u001b[0;36m500\u001b[0m\u001b[0;34m,\u001b[0m \u001b[0;36m20\u001b[0m\u001b[0;34m)\u001b[0m\u001b[0;34m\u001b[0m\u001b[0m\n\u001b[0m\u001b[1;32m     21\u001b[0m \u001b[0mc\u001b[0m\u001b[0;34m[\u001b[0m\u001b[0;36m0\u001b[0m\u001b[0;34m]\u001b[0m\u001b[0;34m\u001b[0m\u001b[0m\n",
      "\u001b[0;32m/Users/demattia/RemoteProjects/LinearizedTrackFit/LinearizedTrackFit/python/Notebooks/utils/plotting.py\u001b[0m in \u001b[0;36mdraw_slices_overlay\u001b[0;34m(file_name_list, legend_entry_list, h_name, y_title, y_max, total_bins, bins_factor)\u001b[0m\n\u001b[1;32m    312\u001b[0m         histos.append(fit_slices(file_name, h_name, eta_bin_edge, eta_min, eta_max, total_bins_eta,\n\u001b[1;32m    313\u001b[0m                                  \u001b[0;36m10\u001b[0m\u001b[0;34m*\u001b[0m\u001b[0mmin_x\u001b[0m\u001b[0;34m,\u001b[0m \u001b[0;36m10\u001b[0m\u001b[0;34m*\u001b[0m\u001b[0mmax_x\u001b[0m\u001b[0;34m,\u001b[0m \u001b[0;36m0.\u001b[0m\u001b[0;34m,\u001b[0m \u001b[0my_max\u001b[0m\u001b[0;34m,\u001b[0m\u001b[0;34m\u001b[0m\u001b[0m\n\u001b[0;32m--> 314\u001b[0;31m                                  \"#eta\", \"#Deltaz_{0} [cm]\", y_title)[4])\n\u001b[0m\u001b[1;32m    315\u001b[0m \u001b[0;34m\u001b[0m\u001b[0m\n\u001b[1;32m    316\u001b[0m     \u001b[0mc\u001b[0m \u001b[0;34m=\u001b[0m \u001b[0mTCanvas\u001b[0m\u001b[0;34m(\u001b[0m\u001b[0;34m\"c\"\u001b[0m\u001b[0;34m,\u001b[0m \u001b[0;34m\"c\"\u001b[0m\u001b[0;34m,\u001b[0m \u001b[0;36m800\u001b[0m\u001b[0;34m,\u001b[0m \u001b[0;36m600\u001b[0m\u001b[0;34m)\u001b[0m\u001b[0;34m\u001b[0m\u001b[0m\n",
      "\u001b[0;32m/Users/demattia/RemoteProjects/LinearizedTrackFit/LinearizedTrackFit/python/Notebooks/utils/plotting.py\u001b[0m in \u001b[0;36mfit_slices\u001b[0;34m(input_file_name, h_name, bin_values, value_min, value_max, total_bins, mean_y_min, mean_y_max, sigma_y_min, sigma_y_max, x_title, y_title, sigma_y_title)\u001b[0m\n\u001b[1;32m     20\u001b[0m     \u001b[0minput_file\u001b[0m \u001b[0;34m=\u001b[0m \u001b[0mTFile\u001b[0m\u001b[0;34m(\u001b[0m\u001b[0minput_file_name\u001b[0m\u001b[0;34m,\u001b[0m \u001b[0;34m\"READ\"\u001b[0m\u001b[0;34m)\u001b[0m\u001b[0;34m\u001b[0m\u001b[0m\n\u001b[1;32m     21\u001b[0m     \u001b[0mh\u001b[0m \u001b[0;34m=\u001b[0m \u001b[0minput_file\u001b[0m\u001b[0;34m.\u001b[0m\u001b[0mFindObjectAny\u001b[0m\u001b[0;34m(\u001b[0m\u001b[0mh_name\u001b[0m\u001b[0;34m)\u001b[0m\u001b[0;34m\u001b[0m\u001b[0m\n\u001b[0;32m---> 22\u001b[0;31m     \u001b[0mh\u001b[0m\u001b[0;34m.\u001b[0m\u001b[0mSetTitle\u001b[0m\u001b[0;34m(\u001b[0m\u001b[0;34m\"\"\u001b[0m\u001b[0;34m)\u001b[0m\u001b[0;34m\u001b[0m\u001b[0m\n\u001b[0m\u001b[1;32m     23\u001b[0m     \u001b[0mc1\u001b[0m \u001b[0;34m=\u001b[0m \u001b[0mTCanvas\u001b[0m\u001b[0;34m(\u001b[0m\u001b[0;34m\"c1\"\u001b[0m\u001b[0;34m,\u001b[0m \u001b[0;34m\"c1\"\u001b[0m\u001b[0;34m,\u001b[0m \u001b[0;36m600\u001b[0m\u001b[0;34m,\u001b[0m \u001b[0;36m600\u001b[0m\u001b[0;34m)\u001b[0m\u001b[0;34m\u001b[0m\u001b[0m\n\u001b[1;32m     24\u001b[0m     \u001b[0mc1\u001b[0m\u001b[0;34m.\u001b[0m\u001b[0mSetRightMargin\u001b[0m\u001b[0;34m(\u001b[0m\u001b[0;36m0.15\u001b[0m\u001b[0;34m)\u001b[0m\u001b[0;34m\u001b[0m\u001b[0m\n",
      "\u001b[0;31mAttributeError\u001b[0m: 'TObject' object has no attribute 'SetTitle'"
     ]
    }
   ],
   "source": [
    "region = 6\n",
    "min_y = 0.1\n",
    "file_name_list, legend_entry_list = generate_files_and_legend_entry_list(region, constants_dir, fit_type, regions_number)\n",
    "\n",
    "if file_name_list[0].find(\"2_10\") != -1:\n",
    "    if region == 1:\n",
    "        min_y = 0.02\n",
    "    elif region == 2:\n",
    "        min_y = 0.03\n",
    "    elif region < 7:\n",
    "        min_y = 0.05\n",
    "else:\n",
    "    if region == 1:\n",
    "        min_y = 0.03\n",
    "    elif region == 2:\n",
    "        min_y = 0.04\n",
    "    elif region < 7:\n",
    "        min_y = 0.1\n",
    "\n",
    "c = draw_slices_overlay(file_name_list, legend_entry_list, \"deltaPtOverPtVsEta\", \"#sigma(p_{T})/p_{T}\", min_y, 500, 20)\n",
    "c[0]"
   ]
  },
  {
   "cell_type": "code",
   "execution_count": 388,
   "metadata": {
    "collapsed": false
   },
   "outputs": [
    {
     "ename": "TypeError",
     "evalue": "generate_files_and_legend_entry_list() takes exactly 4 arguments (1 given)",
     "output_type": "error",
     "traceback": [
      "\u001b[0;31m---------------------------------------------------------------------------\u001b[0m",
      "\u001b[0;31mTypeError\u001b[0m                                 Traceback (most recent call last)",
      "\u001b[0;32m<ipython-input-388-37468dc7157c>\u001b[0m in \u001b[0;36m<module>\u001b[0;34m()\u001b[0m\n\u001b[0;32m----> 1\u001b[0;31m \u001b[0mfile_name_list\u001b[0m\u001b[0;34m,\u001b[0m \u001b[0mlegend_entry_list\u001b[0m \u001b[0;34m=\u001b[0m \u001b[0mgenerate_files_and_legend_entry_list\u001b[0m\u001b[0;34m(\u001b[0m\u001b[0mregion\u001b[0m\u001b[0;34m)\u001b[0m\u001b[0;34m\u001b[0m\u001b[0m\n\u001b[0m\u001b[1;32m      2\u001b[0m \u001b[0mc\u001b[0m \u001b[0;34m=\u001b[0m \u001b[0mdraw_slices_overlay\u001b[0m\u001b[0;34m(\u001b[0m\u001b[0mfile_name_list\u001b[0m\u001b[0;34m,\u001b[0m \u001b[0mlegend_entry_list\u001b[0m\u001b[0;34m,\u001b[0m \u001b[0;34m\"deltaPhiVsEta\"\u001b[0m\u001b[0;34m,\u001b[0m \u001b[0;34m\"#sigma(#phi) [rad]\"\u001b[0m\u001b[0;34m,\u001b[0m \u001b[0;36m0.003\u001b[0m\u001b[0;34m,\u001b[0m \u001b[0;36m500\u001b[0m\u001b[0;34m)\u001b[0m\u001b[0;34m\u001b[0m\u001b[0m\n\u001b[1;32m      3\u001b[0m \u001b[0mc\u001b[0m\u001b[0;34m[\u001b[0m\u001b[0;36m0\u001b[0m\u001b[0;34m]\u001b[0m\u001b[0;34m\u001b[0m\u001b[0m\n\u001b[1;32m      4\u001b[0m \u001b[0;34m\u001b[0m\u001b[0m\n\u001b[1;32m      5\u001b[0m \u001b[0;31m# c = draw_slices_overlay(file_name_list, legend_entry_list,\u001b[0m\u001b[0;34m\u001b[0m\u001b[0;34m\u001b[0m\u001b[0m\n",
      "\u001b[0;31mTypeError\u001b[0m: generate_files_and_legend_entry_list() takes exactly 4 arguments (1 given)"
     ]
    }
   ],
   "source": [
    "file_name_list, legend_entry_list = generate_files_and_legend_entry_list(region)\n",
    "c = draw_slices_overlay(file_name_list, legend_entry_list, \"deltaPhiVsEta\", \"#sigma(#phi) [rad]\", 0.003, 500)\n",
    "c[0]\n",
    "\n",
    "# c = draw_slices_overlay(file_name_list, legend_entry_list,\n",
    "#                  \"deltaPhiVsEta\", \"#sigma(#phi) [rad]\", 0.003, 500)\n",
    "# c[0]"
   ]
  },
  {
   "cell_type": "code",
   "execution_count": null,
   "metadata": {
    "collapsed": true
   },
   "outputs": [],
   "source": []
  },
  {
   "cell_type": "code",
   "execution_count": 389,
   "metadata": {
    "collapsed": false
   },
   "outputs": [
    {
     "data": {
      "text/plain": [
       "1000"
      ]
     },
     "execution_count": 389,
     "metadata": {},
     "output_type": "execute_result"
    }
   ],
   "source": [
    "def compute_nums_transverse(x):\n",
    "    var_means = x\n",
    "    pre_pt_average = 1\n",
    "    pre_pt = x + pre_pt_average\n",
    "    par_means = 3\n",
    "    matrix = x*x\n",
    "    mean_R = 6\n",
    "    total = var_means + pre_pt + mean_R + var_means + 2*(matrix + par_means)\n",
    "    return total\n",
    "\n",
    "\n",
    "def compute_nums_longitudinal(x):\n",
    "    var_means = x\n",
    "    pre_cottheta_average = 1\n",
    "    pre_cottheta = x + pre_cottheta_average\n",
    "    y = x/2\n",
    "    par_means = 2\n",
    "    matrix = y*y\n",
    "    mean_R = 6\n",
    "    total = var_means + pre_cottheta + mean_R + var_means/2 + matrix + par_means\n",
    "    return total\n",
    "\n",
    "\n",
    "transverse = compute_nums_transverse(6) + 6*compute_nums_transverse(5)\n",
    "longitudinal = compute_nums_longitudinal(12) + 6*compute_nums_longitudinal(10)\n",
    "\n",
    "# longitudinal = compute_nums(12) + 6*compute_nums(10)\n",
    "\n",
    "transverse + longitudinal\n",
    "\n",
    "# 5*(transverse + longitudinal)"
   ]
  },
  {
   "cell_type": "code",
   "execution_count": null,
   "metadata": {
    "collapsed": true
   },
   "outputs": [],
   "source": []
  },
  {
   "cell_type": "code",
   "execution_count": null,
   "metadata": {
    "collapsed": true
   },
   "outputs": [],
   "source": []
  },
  {
   "cell_type": "code",
   "execution_count": 390,
   "metadata": {
    "collapsed": false
   },
   "outputs": [
    {
     "name": "stderr",
     "output_type": "stream",
     "text": [
      "TCanvas::Constructor:0: RuntimeWarning: Deleting canvas with same name: c2\n",
      "TCanvas::Constructor:0: RuntimeWarning: Deleting canvas with same name: c2\n",
      "TCanvas::Constructor:0: RuntimeWarning: Deleting canvas with same name: c2\n",
      "TCanvas::Constructor:0: RuntimeWarning: Deleting canvas with same name: c2\n",
      "TCanvas::Constructor:0: RuntimeWarning: Deleting canvas with same name: c2\n",
      "TCanvas::Constructor:0: RuntimeWarning: Deleting canvas with same name: c2\n",
      "TCanvas::Constructor:0: RuntimeWarning: Deleting canvas with same name: c2\n",
      "TCanvas::Constructor:0: RuntimeWarning: Deleting canvas with same name: c2\n",
      "TCanvas::Constructor:0: RuntimeWarning: Deleting canvas with same name: c\n"
     ]
    },
    {
     "data": {
      "image/png": "[encoded data removed]",
      "text/plain": [
       "<ROOT.TCanvas object (\"c\") at 0x7fbf487c8ac0>"
      ]
     },
     "execution_count": 390,
     "metadata": {},
     "output_type": "execute_result"
    }
   ],
   "source": [
    "file_name_list, legend_entry_list = generate_files_and_legend_entry_all_regions_6_6(constants_dir, fit_type, regions_number)\n",
    "# print file_name_list\n",
    "# print legend_entry_list\n",
    "c = draw_slices_overlay(file_name_list, legend_entry_list, \"deltaPtOverPtVsEta\", \"#sigma(p_{T})/p_{T}\", 0.1, 500, 40)\n",
    "c[0]"
   ]
  },
  {
   "cell_type": "code",
   "execution_count": null,
   "metadata": {
    "collapsed": true
   },
   "outputs": [],
   "source": []
  }
 ],
 "metadata": {
  "kernelspec": {
   "display_name": "Python 2",
   "language": "python",
   "name": "python2"
  },
  "language_info": {
   "codemirror_mode": {
    "name": "ipython",
    "version": 2
   },
   "file_extension": ".py",
   "mimetype": "text/x-python",
   "name": "python",
   "nbconvert_exporter": "python",
   "pygments_lexer": "ipython2",
   "version": "2.7.6"
  }
 },
 "nbformat": 4,
 "nbformat_minor": 0
}
